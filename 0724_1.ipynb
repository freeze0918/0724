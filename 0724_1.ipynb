{
  "nbformat": 4,
  "nbformat_minor": 0,
  "metadata": {
    "colab": {
      "provenance": [],
      "authorship_tag": "ABX9TyNyG43CLzjbqC7tzoFJK7We",
      "include_colab_link": true
    },
    "kernelspec": {
      "name": "python3",
      "display_name": "Python 3"
    },
    "language_info": {
      "name": "python"
    }
  },
  "cells": [
    {
      "cell_type": "markdown",
      "metadata": {
        "id": "view-in-github",
        "colab_type": "text"
      },
      "source": [
        "<a href=\"https://colab.research.google.com/github/freeze0918/0724/blob/main/0724_1.ipynb\" target=\"_parent\"><img src=\"https://colab.research.google.com/assets/colab-badge.svg\" alt=\"Open In Colab\"/></a>"
      ]
    },
    {
      "cell_type": "code",
      "execution_count": 8,
      "metadata": {
        "colab": {
          "base_uri": "https://localhost:8080/"
        },
        "id": "usGUt325qx-O",
        "outputId": "4a5fb3d4-0c20-4af0-ee23-d3f8cf19427d"
      },
      "outputs": [
        {
          "output_type": "stream",
          "name": "stdout",
          "text": [
            "我的第一支 python檔案\n"
          ]
        }
      ],
      "source": [
        "print(\"我的第一支 python檔案\")"
      ]
    },
    {
      "cell_type": "code",
      "source": [],
      "metadata": {
        "id": "rwZS_gDpniUx"
      },
      "execution_count": 8,
      "outputs": []
    },
    {
      "cell_type": "markdown",
      "source": [
        "#大標題"
      ],
      "metadata": {
        "id": "J_4TGvYusF6s"
      }
    },
    {
      "cell_type": "markdown",
      "source": [
        "##小標題"
      ],
      "metadata": {
        "id": "LjFgdEGdsLds"
      }
    },
    {
      "cell_type": "code",
      "source": [
        "a=20\n",
        "print(a)"
      ],
      "metadata": {
        "colab": {
          "base_uri": "https://localhost:8080/"
        },
        "id": "EAQTSWnisAal",
        "outputId": "1b5b49b5-4764-489b-a631-72554b7889cd"
      },
      "execution_count": 9,
      "outputs": [
        {
          "output_type": "stream",
          "name": "stdout",
          "text": [
            "20\n"
          ]
        }
      ]
    },
    {
      "cell_type": "code",
      "source": [
        "b=a\n",
        "print(b)"
      ],
      "metadata": {
        "colab": {
          "base_uri": "https://localhost:8080/"
        },
        "id": "pJZhkaeWsAdl",
        "outputId": "9bb75ccd-e40f-47bf-eb0f-a1287c37cbaf"
      },
      "execution_count": 10,
      "outputs": [
        {
          "output_type": "stream",
          "name": "stdout",
          "text": [
            "20\n"
          ]
        }
      ]
    },
    {
      "cell_type": "code",
      "source": [
        "age, name=35, \"freeze\"\n",
        "age, name"
      ],
      "metadata": {
        "colab": {
          "base_uri": "https://localhost:8080/"
        },
        "id": "hcfXS78q4k0F",
        "outputId": "f0c151a2-be66-4624-d654-b10effb507e8"
      },
      "execution_count": 11,
      "outputs": [
        {
          "output_type": "execute_result",
          "data": {
            "text/plain": [
              "(35, 'freeze')"
            ]
          },
          "metadata": {},
          "execution_count": 11
        }
      ]
    },
    {
      "cell_type": "code",
      "source": [
        "c=d=e=f=30"
      ],
      "metadata": {
        "id": "HpXDWw_94k2D"
      },
      "execution_count": 12,
      "outputs": []
    },
    {
      "cell_type": "code",
      "source": [
        "c+d+e+f"
      ],
      "metadata": {
        "colab": {
          "base_uri": "https://localhost:8080/"
        },
        "id": "mKebasXb4k3j",
        "outputId": "817e6d19-8399-4a2b-958b-180f772fe98e"
      },
      "execution_count": 13,
      "outputs": [
        {
          "output_type": "execute_result",
          "data": {
            "text/plain": [
              "120"
            ]
          },
          "metadata": {},
          "execution_count": 13
        }
      ]
    },
    {
      "cell_type": "code",
      "source": [
        "a=30\n",
        "print(a)"
      ],
      "metadata": {
        "colab": {
          "base_uri": "https://localhost:8080/"
        },
        "id": "CT9W4IxT4k5T",
        "outputId": "519e3e2c-b150-4dfb-f002-c4e2e8d1642d"
      },
      "execution_count": 14,
      "outputs": [
        {
          "output_type": "stream",
          "name": "stdout",
          "text": [
            "30\n"
          ]
        }
      ]
    },
    {
      "cell_type": "code",
      "source": [
        "a=b=c=d=e=f=50\n",
        "a,b,c,d,e,f"
      ],
      "metadata": {
        "colab": {
          "base_uri": "https://localhost:8080/"
        },
        "id": "xazFJhK64k67",
        "outputId": "a66fab19-628f-470d-fadd-e195034e9e7a"
      },
      "execution_count": 15,
      "outputs": [
        {
          "output_type": "execute_result",
          "data": {
            "text/plain": [
              "(50, 50, 50, 50, 50, 50)"
            ]
          },
          "metadata": {},
          "execution_count": 15
        }
      ]
    },
    {
      "cell_type": "code",
      "source": [
        "日期=724\n",
        "日期\n"
      ],
      "metadata": {
        "colab": {
          "base_uri": "https://localhost:8080/"
        },
        "id": "4MSK1DrL4k8j",
        "outputId": "6e40438a-8005-4df0-f26e-0bf6ad7f6897"
      },
      "execution_count": 16,
      "outputs": [
        {
          "output_type": "execute_result",
          "data": {
            "text/plain": [
              "724"
            ]
          },
          "metadata": {},
          "execution_count": 16
        }
      ]
    },
    {
      "cell_type": "code",
      "source": [
        "A=10\n",
        "A,a"
      ],
      "metadata": {
        "colab": {
          "base_uri": "https://localhost:8080/"
        },
        "id": "wkZ0VwRj7M7y",
        "outputId": "fcc656d3-a6ab-4253-d01a-169fa4f4ada2"
      },
      "execution_count": 17,
      "outputs": [
        {
          "output_type": "execute_result",
          "data": {
            "text/plain": [
              "(10, 50)"
            ]
          },
          "metadata": {},
          "execution_count": 17
        }
      ]
    },
    {
      "cell_type": "code",
      "source": [
        "g=h=i=j=k=50\n",
        "G=H=I=J=K=60\n",
        "g,h,i,j,k"
      ],
      "metadata": {
        "colab": {
          "base_uri": "https://localhost:8080/"
        },
        "id": "saoyD9CV7M_J",
        "outputId": "bddfaad1-00e6-413a-b65e-b875f0410d3b"
      },
      "execution_count": 18,
      "outputs": [
        {
          "output_type": "execute_result",
          "data": {
            "text/plain": [
              "(50, 50, 50, 50, 50)"
            ]
          },
          "metadata": {},
          "execution_count": 18
        }
      ]
    },
    {
      "cell_type": "code",
      "source": [
        "G,H,I,J,K"
      ],
      "metadata": {
        "colab": {
          "base_uri": "https://localhost:8080/"
        },
        "id": "ZN6hyX1D7NAq",
        "outputId": "5dd3114d-ec9e-49fb-e3cb-05841d6374a6"
      },
      "execution_count": 19,
      "outputs": [
        {
          "output_type": "execute_result",
          "data": {
            "text/plain": [
              "(60, 60, 60, 60, 60)"
            ]
          },
          "metadata": {},
          "execution_count": 19
        }
      ]
    },
    {
      "cell_type": "code",
      "source": [
        "g+h+i+j+k+G+H+I+J+K"
      ],
      "metadata": {
        "colab": {
          "base_uri": "https://localhost:8080/"
        },
        "id": "FTLWlstz7NCB",
        "outputId": "93f4c3e5-f55d-4052-9812-55d9de5bd2f3"
      },
      "execution_count": 20,
      "outputs": [
        {
          "output_type": "execute_result",
          "data": {
            "text/plain": [
              "550"
            ]
          },
          "metadata": {},
          "execution_count": 20
        }
      ]
    },
    {
      "cell_type": "code",
      "source": [
        "l=1\n",
        "m=2\n",
        "n=3\n",
        "l,m,n"
      ],
      "metadata": {
        "colab": {
          "base_uri": "https://localhost:8080/"
        },
        "id": "KnErMOud7NDh",
        "outputId": "6a8a5032-2d9f-484f-ed53-d0faf4d42ba5"
      },
      "execution_count": 21,
      "outputs": [
        {
          "output_type": "execute_result",
          "data": {
            "text/plain": [
              "(1, 2, 3)"
            ]
          },
          "metadata": {},
          "execution_count": 21
        }
      ]
    },
    {
      "cell_type": "code",
      "source": [
        "\"\"\"\n",
        "l=1\n",
        "m=2\n",
        "n=3\n",
        "l,m,n\n",
        "\"\"\""
      ],
      "metadata": {
        "colab": {
          "base_uri": "https://localhost:8080/",
          "height": 35
        },
        "id": "InhfTrZ_7NFJ",
        "outputId": "63edd40d-45ae-4f23-d541-0f2503887141"
      },
      "execution_count": 22,
      "outputs": [
        {
          "output_type": "execute_result",
          "data": {
            "text/plain": [
              "'\\nl=1\\nm=2\\nn=3\\nl,m,n\\n'"
            ],
            "application/vnd.google.colaboratory.intrinsic+json": {
              "type": "string"
            }
          },
          "metadata": {},
          "execution_count": 22
        }
      ]
    },
    {
      "cell_type": "code",
      "source": [
        "str1=\"這是第一個字串\"\n",
        "(str1)"
      ],
      "metadata": {
        "colab": {
          "base_uri": "https://localhost:8080/",
          "height": 35
        },
        "id": "aUUjugVO7NI4",
        "outputId": "1c9dcd54-73f6-4875-d4e7-416eaf91a44e"
      },
      "execution_count": 23,
      "outputs": [
        {
          "output_type": "execute_result",
          "data": {
            "text/plain": [
              "'這是第一個字串'"
            ],
            "application/vnd.google.colaboratory.intrinsic+json": {
              "type": "string"
            }
          },
          "metadata": {},
          "execution_count": 23
        }
      ]
    },
    {
      "cell_type": "code",
      "source": [
        "str2=\"這是第二個字串\"\n",
        "(str2)"
      ],
      "metadata": {
        "colab": {
          "base_uri": "https://localhost:8080/",
          "height": 35
        },
        "id": "Qxhdb9M97NK1",
        "outputId": "4f9e2f42-c44a-45b5-95bd-f96ec9f902d8"
      },
      "execution_count": 24,
      "outputs": [
        {
          "output_type": "execute_result",
          "data": {
            "text/plain": [
              "'這是第二個字串'"
            ],
            "application/vnd.google.colaboratory.intrinsic+json": {
              "type": "string"
            }
          },
          "metadata": {},
          "execution_count": 24
        }
      ]
    },
    {
      "cell_type": "code",
      "source": [
        "str3=\"我說:'hi'\"\n",
        "str4='我說:\"hi\"'\n",
        "print(str3)\n",
        "print(str4)"
      ],
      "metadata": {
        "colab": {
          "base_uri": "https://localhost:8080/"
        },
        "id": "hcMhcYrM7NMZ",
        "outputId": "0f8025f3-46c9-4085-e019-99118991e680"
      },
      "execution_count": 25,
      "outputs": [
        {
          "output_type": "stream",
          "name": "stdout",
          "text": [
            "我說:'hi'\n",
            "我說:\"hi\"\n"
          ]
        }
      ]
    },
    {
      "cell_type": "code",
      "source": [
        "print(type(56))"
      ],
      "metadata": {
        "colab": {
          "base_uri": "https://localhost:8080/"
        },
        "id": "8EdCMN04AKt9",
        "outputId": "0be02b45-2603-4983-eaf7-e7819bd96ef4"
      },
      "execution_count": 26,
      "outputs": [
        {
          "output_type": "stream",
          "name": "stdout",
          "text": [
            "<class 'int'>\n"
          ]
        }
      ]
    },
    {
      "cell_type": "code",
      "source": [
        "print(type(56.0))"
      ],
      "metadata": {
        "colab": {
          "base_uri": "https://localhost:8080/"
        },
        "id": "kJv03J3HAKxd",
        "outputId": "d027401b-6e58-49f8-936e-b253000389bb"
      },
      "execution_count": 27,
      "outputs": [
        {
          "output_type": "stream",
          "name": "stdout",
          "text": [
            "<class 'float'>\n"
          ]
        }
      ]
    },
    {
      "cell_type": "code",
      "source": [
        "print(type(\"hey man,how are you\"))"
      ],
      "metadata": {
        "colab": {
          "base_uri": "https://localhost:8080/"
        },
        "id": "qQQFrOD6AK8W",
        "outputId": "0d9e6457-0e87-407b-fa9f-80ff63f494a0"
      },
      "execution_count": 28,
      "outputs": [
        {
          "output_type": "stream",
          "name": "stdout",
          "text": [
            "<class 'str'>\n"
          ]
        }
      ]
    },
    {
      "cell_type": "code",
      "source": [
        "print(type(True))"
      ],
      "metadata": {
        "colab": {
          "base_uri": "https://localhost:8080/"
        },
        "id": "G9DY38aVAK99",
        "outputId": "0db29367-841e-4ff8-ce41-b24e85761239"
      },
      "execution_count": 29,
      "outputs": [
        {
          "output_type": "stream",
          "name": "stdout",
          "text": [
            "<class 'bool'>\n"
          ]
        }
      ]
    },
    {
      "cell_type": "code",
      "source": [
        "print(type(55))"
      ],
      "metadata": {
        "colab": {
          "base_uri": "https://localhost:8080/"
        },
        "id": "ZfIM-NDmALAP",
        "outputId": "86abe7fe-7b0b-44fd-ab76-ea6c1e624dcd"
      },
      "execution_count": 30,
      "outputs": [
        {
          "output_type": "stream",
          "name": "stdout",
          "text": [
            "<class 'int'>\n"
          ]
        }
      ]
    },
    {
      "cell_type": "code",
      "source": [
        "print(type(55.1))"
      ],
      "metadata": {
        "colab": {
          "base_uri": "https://localhost:8080/"
        },
        "id": "Qsvx_Z00ALDt",
        "outputId": "6544fa9a-05e2-42da-a055-4550d7d62884"
      },
      "execution_count": 31,
      "outputs": [
        {
          "output_type": "stream",
          "name": "stdout",
          "text": [
            "<class 'float'>\n"
          ]
        }
      ]
    },
    {
      "cell_type": "code",
      "source": [
        "print(type(\"haha\"))"
      ],
      "metadata": {
        "colab": {
          "base_uri": "https://localhost:8080/"
        },
        "id": "-KNCqddWALFl",
        "outputId": "0d669bb7-e857-4f5d-82d7-d24a210a7d32"
      },
      "execution_count": 32,
      "outputs": [
        {
          "output_type": "stream",
          "name": "stdout",
          "text": [
            "<class 'str'>\n"
          ]
        }
      ]
    },
    {
      "cell_type": "code",
      "source": [
        "print(type(False))"
      ],
      "metadata": {
        "colab": {
          "base_uri": "https://localhost:8080/"
        },
        "id": "jOsanMiTALH9",
        "outputId": "4d539ef2-212a-43d7-c9e0-dc5f163f3f2a"
      },
      "execution_count": 33,
      "outputs": [
        {
          "output_type": "stream",
          "name": "stdout",
          "text": [
            "<class 'bool'>\n"
          ]
        }
      ]
    },
    {
      "cell_type": "code",
      "source": [
        "num1 = 1+1.1\n",
        "num1"
      ],
      "metadata": {
        "colab": {
          "base_uri": "https://localhost:8080/"
        },
        "id": "ZQn5oouvALLl",
        "outputId": "6a69cda8-b4b2-4a53-f6df-5daf5b1e00da"
      },
      "execution_count": 34,
      "outputs": [
        {
          "output_type": "execute_result",
          "data": {
            "text/plain": [
              "2.1"
            ]
          },
          "metadata": {},
          "execution_count": 34
        }
      ]
    },
    {
      "cell_type": "code",
      "source": [
        "int(num1)"
      ],
      "metadata": {
        "colab": {
          "base_uri": "https://localhost:8080/"
        },
        "id": "zZps-tV2ALN1",
        "outputId": "b7e7e57c-12c9-452d-daae-fdcc3371bfe6"
      },
      "execution_count": 35,
      "outputs": [
        {
          "output_type": "execute_result",
          "data": {
            "text/plain": [
              "2"
            ]
          },
          "metadata": {},
          "execution_count": 35
        }
      ]
    },
    {
      "cell_type": "code",
      "source": [
        "num2 = int(num1)\n",
        "num2,num1"
      ],
      "metadata": {
        "colab": {
          "base_uri": "https://localhost:8080/"
        },
        "id": "nRAAkKrUALRl",
        "outputId": "cd0c3e99-339b-4217-95e9-0539311608f2"
      },
      "execution_count": 36,
      "outputs": [
        {
          "output_type": "execute_result",
          "data": {
            "text/plain": [
              "(2, 2.1)"
            ]
          },
          "metadata": {},
          "execution_count": 36
        }
      ]
    },
    {
      "cell_type": "code",
      "source": [
        "float(num2)"
      ],
      "metadata": {
        "colab": {
          "base_uri": "https://localhost:8080/"
        },
        "id": "98MB2vYrALUW",
        "outputId": "e2ab442d-d54e-484e-c6a0-9be9c1b31522"
      },
      "execution_count": 37,
      "outputs": [
        {
          "output_type": "execute_result",
          "data": {
            "text/plain": [
              "2.0"
            ]
          },
          "metadata": {},
          "execution_count": 37
        }
      ]
    },
    {
      "cell_type": "code",
      "source": [
        "num2"
      ],
      "metadata": {
        "colab": {
          "base_uri": "https://localhost:8080/"
        },
        "id": "4C6syz-7ALXH",
        "outputId": "c6826b20-5106-43fd-b25e-d1127ebf6fe2"
      },
      "execution_count": 38,
      "outputs": [
        {
          "output_type": "execute_result",
          "data": {
            "text/plain": [
              "2"
            ]
          },
          "metadata": {},
          "execution_count": 38
        }
      ]
    },
    {
      "cell_type": "code",
      "source": [
        "num3 = float(num2)\n",
        "num3"
      ],
      "metadata": {
        "colab": {
          "base_uri": "https://localhost:8080/"
        },
        "id": "VE0jqvvHALZe",
        "outputId": "b995ed16-c8d3-45bf-dd8a-d5988210fbd7"
      },
      "execution_count": 39,
      "outputs": [
        {
          "output_type": "execute_result",
          "data": {
            "text/plain": [
              "2.0"
            ]
          },
          "metadata": {},
          "execution_count": 39
        }
      ]
    },
    {
      "cell_type": "code",
      "source": [
        "num4=str(num3)\n",
        "num4"
      ],
      "metadata": {
        "colab": {
          "base_uri": "https://localhost:8080/",
          "height": 35
        },
        "id": "x6q4_nCtALdv",
        "outputId": "e59b97b9-3177-40c2-f972-c6b4b4b2120c"
      },
      "execution_count": 40,
      "outputs": [
        {
          "output_type": "execute_result",
          "data": {
            "text/plain": [
              "'2.0'"
            ],
            "application/vnd.google.colaboratory.intrinsic+json": {
              "type": "string"
            }
          },
          "metadata": {},
          "execution_count": 40
        }
      ]
    },
    {
      "cell_type": "code",
      "source": [
        "a=1\n",
        "b=2\n",
        "c=3\n",
        "print(a,b,c)\n",
        "print([a,b,c])\n",
        "print(a,[b,c])"
      ],
      "metadata": {
        "colab": {
          "base_uri": "https://localhost:8080/"
        },
        "id": "xu8jsq_KbNx5",
        "outputId": "a91993c8-ce3e-4512-9813-c32029cea1b7"
      },
      "execution_count": 41,
      "outputs": [
        {
          "output_type": "stream",
          "name": "stdout",
          "text": [
            "1 2 3\n",
            "[1, 2, 3]\n",
            "1 [2, 3]\n"
          ]
        }
      ]
    },
    {
      "cell_type": "code",
      "source": [
        "print('hey','hi','hello')\n",
        "print('hey','hi','hello',sep=\"_\")\n",
        "print('hey','hi','hello',sep=\"/n\")\n",
        "print('hey','hi','hello',sep=\"/t\")"
      ],
      "metadata": {
        "colab": {
          "base_uri": "https://localhost:8080/"
        },
        "id": "nZ29G_tabN1n",
        "outputId": "f9ecc858-d42b-4fa1-8c51-3a24f0cc7ade"
      },
      "execution_count": 42,
      "outputs": [
        {
          "output_type": "stream",
          "name": "stdout",
          "text": [
            "hey hi hello\n",
            "hey_hi_hello\n",
            "hey/nhi/nhello\n",
            "hey/thi/thello\n"
          ]
        }
      ]
    },
    {
      "cell_type": "code",
      "source": [
        "print(123)\n",
        "print(456)\n",
        "\n",
        "print(123,end=',')\n",
        "print(456)\n",
        "\n",
        "print(123,end='')\n",
        "print(456)"
      ],
      "metadata": {
        "colab": {
          "base_uri": "https://localhost:8080/"
        },
        "id": "Fyw6ethNbN2-",
        "outputId": "6b48e11c-db41-48c8-8d23-59945379b374"
      },
      "execution_count": 43,
      "outputs": [
        {
          "output_type": "stream",
          "name": "stdout",
          "text": [
            "123\n",
            "456\n",
            "123,456\n",
            "123456\n"
          ]
        }
      ]
    },
    {
      "cell_type": "code",
      "source": [
        "print(\"午安,\")\n",
        "print(\"同學好!\")\n",
        "print(\"打起精神來!!\")\n",
        "\n",
        "print(\"午安,\",\"同學好!\",\"打起精神來!!\",sep='\\n')"
      ],
      "metadata": {
        "colab": {
          "base_uri": "https://localhost:8080/"
        },
        "id": "iMNf3unvbOBB",
        "outputId": "cb1f4b32-4eaa-40ba-b070-0d1cd2952978"
      },
      "execution_count": 44,
      "outputs": [
        {
          "output_type": "stream",
          "name": "stdout",
          "text": [
            "午安,\n",
            "同學好!\n",
            "打起精神來!!\n",
            "午安,\n",
            "同學好!\n",
            "打起精神來!!\n"
          ]
        }
      ]
    },
    {
      "cell_type": "code",
      "source": [
        "print('午安','同學好','打起精神來!!!',sep='_')\n",
        "print('下午好','平安順心','健康如意ˇˇ',sep=',')"
      ],
      "metadata": {
        "colab": {
          "base_uri": "https://localhost:8080/"
        },
        "id": "Rm-pFeSJbOIo",
        "outputId": "0adec37c-33ab-4fcf-8164-af35cbdd4935"
      },
      "execution_count": 45,
      "outputs": [
        {
          "output_type": "stream",
          "name": "stdout",
          "text": [
            "午安_同學好_打起精神來!!!\n",
            "下午好,平安順心,健康如意ˇˇ\n"
          ]
        }
      ]
    },
    {
      "cell_type": "code",
      "source": [
        "test1=input('')\n",
        "test1+1"
      ],
      "metadata": {
        "colab": {
          "base_uri": "https://localhost:8080/",
          "height": 204
        },
        "id": "cg1AdvnwbOLO",
        "outputId": "4e22d26a-a880-411b-d747-f754c9e7ec20"
      },
      "execution_count": 46,
      "outputs": [
        {
          "name": "stdout",
          "output_type": "stream",
          "text": [
            "99\n"
          ]
        },
        {
          "output_type": "error",
          "ename": "TypeError",
          "evalue": "ignored",
          "traceback": [
            "\u001b[0;31m---------------------------------------------------------------------------\u001b[0m",
            "\u001b[0;31mTypeError\u001b[0m                                 Traceback (most recent call last)",
            "\u001b[0;32m<ipython-input-46-f58cc8e9ffe9>\u001b[0m in \u001b[0;36m<cell line: 2>\u001b[0;34m()\u001b[0m\n\u001b[1;32m      1\u001b[0m \u001b[0mtest1\u001b[0m\u001b[0;34m=\u001b[0m\u001b[0minput\u001b[0m\u001b[0;34m(\u001b[0m\u001b[0;34m''\u001b[0m\u001b[0;34m)\u001b[0m\u001b[0;34m\u001b[0m\u001b[0;34m\u001b[0m\u001b[0m\n\u001b[0;32m----> 2\u001b[0;31m \u001b[0mtest1\u001b[0m\u001b[0;34m+\u001b[0m\u001b[0;36m1\u001b[0m\u001b[0;34m\u001b[0m\u001b[0;34m\u001b[0m\u001b[0m\n\u001b[0m",
            "\u001b[0;31mTypeError\u001b[0m: can only concatenate str (not \"int\") to str"
          ]
        }
      ]
    },
    {
      "cell_type": "code",
      "source": [
        "print(type(test1))"
      ],
      "metadata": {
        "colab": {
          "base_uri": "https://localhost:8080/"
        },
        "id": "kHrunJuKbONT",
        "outputId": "93a0ffb2-d199-4fb5-f408-6ed2d1ff1e61"
      },
      "execution_count": 47,
      "outputs": [
        {
          "output_type": "stream",
          "name": "stdout",
          "text": [
            "<class 'str'>\n"
          ]
        }
      ]
    },
    {
      "cell_type": "code",
      "source": [
        "test2 = int(input(''))\n",
        "print(test2)"
      ],
      "metadata": {
        "colab": {
          "base_uri": "https://localhost:8080/"
        },
        "id": "oVpS1vtKbOPe",
        "outputId": "33fa6617-88eb-4b93-c726-e419b70deafc"
      },
      "execution_count": 48,
      "outputs": [
        {
          "output_type": "stream",
          "name": "stdout",
          "text": [
            "9\n",
            "9\n"
          ]
        }
      ]
    },
    {
      "cell_type": "code",
      "source": [
        "print(type(test2))"
      ],
      "metadata": {
        "colab": {
          "base_uri": "https://localhost:8080/"
        },
        "id": "ArU3bHt1bOjf",
        "outputId": "fea252a4-b7f6-487c-8258-2c30f30db6fa"
      },
      "execution_count": 49,
      "outputs": [
        {
          "output_type": "stream",
          "name": "stdout",
          "text": [
            "<class 'int'>\n"
          ]
        }
      ]
    },
    {
      "cell_type": "code",
      "source": [
        "test2+1"
      ],
      "metadata": {
        "colab": {
          "base_uri": "https://localhost:8080/"
        },
        "id": "8aLDZ9j7bOl_",
        "outputId": "1d15db04-129b-4e4f-e3a1-b7c72c0a2f38"
      },
      "execution_count": 50,
      "outputs": [
        {
          "output_type": "execute_result",
          "data": {
            "text/plain": [
              "10"
            ]
          },
          "metadata": {},
          "execution_count": 50
        }
      ]
    },
    {
      "cell_type": "code",
      "source": [
        "x=int(input('請輸入國文成績'))\n",
        "y=int(input('請輸入英文成績'))\n",
        "z=int(input('請輸入數學成績'))\n",
        "\n",
        "print(\"你的成績總分為:\",x+y+z)"
      ],
      "metadata": {
        "colab": {
          "base_uri": "https://localhost:8080/"
        },
        "id": "xlLiYfeRbOoa",
        "outputId": "5ab03ac4-a110-4a29-8481-c841d8197d63"
      },
      "execution_count": 51,
      "outputs": [
        {
          "output_type": "stream",
          "name": "stdout",
          "text": [
            "請輸入國文成績50\n",
            "請輸入英文成績60\n",
            "請輸入數學成績70\n",
            "你的成績總分為: 180\n"
          ]
        }
      ]
    },
    {
      "cell_type": "code",
      "source": [
        "print(12+3)\n",
        "print(12-3)\n",
        "print(12*3)\n",
        "print(32/5)\n",
        "print(32%5)\n",
        "print(32//5)\n",
        "print(7**2)"
      ],
      "metadata": {
        "colab": {
          "base_uri": "https://localhost:8080/"
        },
        "id": "07u1JXQCbOqn",
        "outputId": "d9fea317-08f0-43cd-ae3c-62d447fa3ff0"
      },
      "execution_count": 52,
      "outputs": [
        {
          "output_type": "stream",
          "name": "stdout",
          "text": [
            "15\n",
            "9\n",
            "36\n",
            "6.4\n",
            "2\n",
            "6\n",
            "49\n"
          ]
        }
      ]
    },
    {
      "cell_type": "code",
      "source": [
        "上底 = int(input())\n",
        "下底 = int(input())\n",
        "高 = int(input())\n",
        "面積 = (上底+下底)*高/2\n",
        "print(\"上底長度是:\",上底,\"下底長度是:\",下底,\"高的長度是:\",高,\"面積是:\",面積)"
      ],
      "metadata": {
        "colab": {
          "base_uri": "https://localhost:8080/"
        },
        "id": "HE7owdWfbOvO",
        "outputId": "1401c50c-fc33-41df-b02d-a3e7e65ebf33"
      },
      "execution_count": 53,
      "outputs": [
        {
          "output_type": "stream",
          "name": "stdout",
          "text": [
            "2\n",
            "5\n",
            "9\n",
            "上底長度是: 2 下底長度是: 5 高的長度是: 9 面積是: 31.5\n"
          ]
        }
      ]
    },
    {
      "cell_type": "code",
      "source": [
        "import math\n",
        "\n",
        "r = int(input(\"請輸入你的身高(cm):\"))\n",
        "t = int(input(\"請輸入你的體重(kg):\"))\n",
        "BMI = t/((r/100)**2)\n",
        "print(\"身高\",r,\"公分\",\"體重\",t,\"公斤\",\"BMI值為\",round(BMI,2))"
      ],
      "metadata": {
        "colab": {
          "base_uri": "https://localhost:8080/"
        },
        "id": "YB70XbqlbO14",
        "outputId": "a0c4780d-9101-432a-bebb-253ac6f44149"
      },
      "execution_count": 54,
      "outputs": [
        {
          "output_type": "stream",
          "name": "stdout",
          "text": [
            "請輸入你的身高(cm):180\n",
            "請輸入你的體重(kg):80\n",
            "身高 180 公分 體重 80 公斤 BMI值為 24.69\n"
          ]
        }
      ]
    },
    {
      "cell_type": "code",
      "source": [
        "print(6+9==2+13)\n",
        "print(8+9==2+13)\n",
        "\n",
        "print(8+9!=2+13)\n",
        "print(6+9!=2+13)\n",
        "\n",
        "print(8+9>2+13)\n",
        "print(6+9>2+13)\n",
        "\n",
        "print(5+9<2+13)\n",
        "print(8+9<2+13)\n",
        "\n",
        "print(6+9>=2+13)\n",
        "print(3+9>=2+13)\n",
        "\n",
        "print(3+9<=2+13)\n",
        "print(8+9<=2+13)"
      ],
      "metadata": {
        "colab": {
          "base_uri": "https://localhost:8080/"
        },
        "id": "ZZ7nYUvfbO4n",
        "outputId": "54dcd668-c935-4c58-81ad-38174795ff34"
      },
      "execution_count": 55,
      "outputs": [
        {
          "output_type": "stream",
          "name": "stdout",
          "text": [
            "True\n",
            "False\n",
            "True\n",
            "False\n",
            "True\n",
            "False\n",
            "True\n",
            "False\n",
            "True\n",
            "False\n",
            "True\n",
            "False\n"
          ]
        }
      ]
    },
    {
      "cell_type": "code",
      "source": [
        "print(not(3>5))\n",
        "print(not(5>3))\n",
        "\n",
        "print((5>3)and(9>6))\n",
        "print((5>3)and(9>6))\n",
        "print((5<3)and(9>6))\n",
        "print((5<3)and(9<6))\n",
        "\n",
        "print((5>3)or(9>6))\n",
        "print((5>3)or(9>6))\n",
        "print((5<3)or(9>6))\n",
        "print((5<3)or(9<6))"
      ],
      "metadata": {
        "colab": {
          "base_uri": "https://localhost:8080/"
        },
        "id": "G_OYAZG8bPCY",
        "outputId": "06cc9d59-189b-408b-aaf6-86970bf77c3b"
      },
      "execution_count": 56,
      "outputs": [
        {
          "output_type": "stream",
          "name": "stdout",
          "text": [
            "True\n",
            "False\n",
            "True\n",
            "True\n",
            "False\n",
            "False\n",
            "True\n",
            "True\n",
            "True\n",
            "False\n"
          ]
        }
      ]
    },
    {
      "cell_type": "code",
      "source": [
        "i=10"
      ],
      "metadata": {
        "id": "f13yNueibPJH"
      },
      "execution_count": 57,
      "outputs": []
    },
    {
      "cell_type": "code",
      "source": [
        "i+=5"
      ],
      "metadata": {
        "id": "apLK6DfVbPLP"
      },
      "execution_count": 58,
      "outputs": []
    },
    {
      "cell_type": "code",
      "source": [
        "i-=5"
      ],
      "metadata": {
        "id": "sQEEjNXNbPNf"
      },
      "execution_count": 59,
      "outputs": []
    },
    {
      "cell_type": "code",
      "source": [
        "i/=5"
      ],
      "metadata": {
        "id": "ruVajqXybPP3"
      },
      "execution_count": 60,
      "outputs": []
    },
    {
      "cell_type": "code",
      "source": [
        "i*=5"
      ],
      "metadata": {
        "id": "fmKA0PrRbPXD"
      },
      "execution_count": 61,
      "outputs": []
    },
    {
      "cell_type": "code",
      "source": [
        "i%=5"
      ],
      "metadata": {
        "id": "V4IRLwvdbPcn"
      },
      "execution_count": 62,
      "outputs": []
    },
    {
      "cell_type": "code",
      "source": [
        "i//=5"
      ],
      "metadata": {
        "id": "6Naz8NfsbPhP"
      },
      "execution_count": 63,
      "outputs": []
    },
    {
      "cell_type": "code",
      "source": [
        "y = int(input(\"請輸入本金存款金額:\"))\n",
        "years = 1.02**6\n",
        "q = y*years\n",
        "print(\"六年後存款金額:\",q)"
      ],
      "metadata": {
        "colab": {
          "base_uri": "https://localhost:8080/"
        },
        "id": "KDeyfwvSbPjv",
        "outputId": "4fc992cb-2105-4489-d257-5170e4ee0b98"
      },
      "execution_count": 64,
      "outputs": [
        {
          "output_type": "stream",
          "name": "stdout",
          "text": [
            "請輸入本金存款金額:10000\n",
            "六年後存款金額: 11261.62419264\n"
          ]
        }
      ]
    },
    {
      "cell_type": "code",
      "source": [
        "score = int(input())\n",
        "if(score>=60):\n",
        "  grade = (\"及格\")\n",
        "else:\n",
        "  grade = (\"不及格\")\n",
        "print(grade)"
      ],
      "metadata": {
        "colab": {
          "base_uri": "https://localhost:8080/"
        },
        "id": "jQqnfSpBbPmM",
        "outputId": "0988884a-e1d3-44aa-eedd-ca78c994f20b"
      },
      "execution_count": 65,
      "outputs": [
        {
          "output_type": "stream",
          "name": "stdout",
          "text": [
            "69\n",
            "及格\n"
          ]
        }
      ]
    },
    {
      "cell_type": "code",
      "source": [
        "pp = int(input())\n",
        "if (pp==1234):\n",
        "  print(\"歡迎光臨\")\n"
      ],
      "metadata": {
        "colab": {
          "base_uri": "https://localhost:8080/"
        },
        "id": "gl72Wft4bPoj",
        "outputId": "0605a0e5-0e51-419e-8285-326a71c5588f"
      },
      "execution_count": 66,
      "outputs": [
        {
          "output_type": "stream",
          "name": "stdout",
          "text": [
            "1234\n",
            "歡迎光臨\n"
          ]
        }
      ]
    },
    {
      "cell_type": "code",
      "source": [
        "pp = int(input())\n",
        "if (pp==1234):\n",
        "  print(\"歡迎光臨\")"
      ],
      "metadata": {
        "colab": {
          "base_uri": "https://localhost:8080/"
        },
        "id": "w7n-GdtobPra",
        "outputId": "3c30f90c-b7e1-44ed-9d51-63c6da65c67f"
      },
      "execution_count": 67,
      "outputs": [
        {
          "name": "stdout",
          "output_type": "stream",
          "text": [
            "1111\n"
          ]
        }
      ]
    },
    {
      "cell_type": "code",
      "source": [
        "rr = input(\"今天會下雨嗎?\")\n",
        "if(rr==\"Y\"or\"y\"):\n",
        "  print(\"出門記得帶傘\")\n"
      ],
      "metadata": {
        "colab": {
          "base_uri": "https://localhost:8080/"
        },
        "id": "jv7ZRC8IbPuH",
        "outputId": "c1233369-99e8-4f57-9a42-46bd0098f7a2"
      },
      "execution_count": 80,
      "outputs": [
        {
          "output_type": "stream",
          "name": "stdout",
          "text": [
            "今天會下雨嗎?Y\n",
            "出門記得帶傘\n"
          ]
        }
      ]
    },
    {
      "cell_type": "code",
      "source": [
        "rr = input(\"今天會下雨嗎?\")\n",
        "if(rr==\"Y\"or\"y\"):\n",
        "  print(\"出門記得帶傘\")\n"
      ],
      "metadata": {
        "colab": {
          "base_uri": "https://localhost:8080/"
        },
        "id": "vikCgKiFbPw-",
        "outputId": "83804d38-0da4-4edc-be89-2737ca85c73d"
      },
      "execution_count": 81,
      "outputs": [
        {
          "output_type": "stream",
          "name": "stdout",
          "text": [
            "今天會下雨嗎?y\n",
            "出門記得帶傘\n"
          ]
        }
      ]
    },
    {
      "cell_type": "code",
      "source": [
        "pp = int(input())\n",
        "if (pp==1234):\n",
        "  print(\"歡迎光臨!\")\n",
        "else:\n",
        "  print(\"密碼錯誤!\")"
      ],
      "metadata": {
        "colab": {
          "base_uri": "https://localhost:8080/"
        },
        "id": "49XF8v9UbPzb",
        "outputId": "da7af66d-ad32-42ea-fcd8-ac1af1d582cc"
      },
      "execution_count": 82,
      "outputs": [
        {
          "output_type": "stream",
          "name": "stdout",
          "text": [
            "1234\n",
            "歡迎光臨!\n"
          ]
        }
      ]
    },
    {
      "cell_type": "code",
      "source": [
        "pp = int(input())\n",
        "if (pp==1234):\n",
        "  print(\"歡迎光臨\")\n",
        "else:\n",
        "  print(\"密碼錯誤!\")"
      ],
      "metadata": {
        "colab": {
          "base_uri": "https://localhost:8080/"
        },
        "id": "kEkLRRzPbP2C",
        "outputId": "1f9f255f-d765-40f6-efa0-f7ddf26a19cf"
      },
      "execution_count": 83,
      "outputs": [
        {
          "output_type": "stream",
          "name": "stdout",
          "text": [
            "1111\n",
            "密碼錯誤!\n"
          ]
        }
      ]
    },
    {
      "cell_type": "code",
      "source": [
        "rr = input(\"今天會下雨嗎?\")\n",
        "if(rr==\"Y\"or rr==\"y\"):\n",
        "  print(\"出門記得帶傘\")\n",
        "else:\n",
        "  print(\"不用帶傘\")"
      ],
      "metadata": {
        "colab": {
          "base_uri": "https://localhost:8080/"
        },
        "id": "ky_fsAMuCxG-",
        "outputId": "4d670f2b-b34c-4a3a-b912-7fd9316e6830"
      },
      "execution_count": 84,
      "outputs": [
        {
          "output_type": "stream",
          "name": "stdout",
          "text": [
            "今天會下雨嗎?p\n",
            "不用帶傘\n"
          ]
        }
      ]
    },
    {
      "cell_type": "code",
      "source": [
        "num = int(input())\n",
        "if(num%2==0):\n",
        "  print(num,\"是偶數\")\n",
        "else:\n",
        "  print(num,\"是奇數\")"
      ],
      "metadata": {
        "colab": {
          "base_uri": "https://localhost:8080/"
        },
        "id": "EcIPKcMaCxI1",
        "outputId": "fb4e9592-6691-482d-cf14-1a3abd8eaa70"
      },
      "execution_count": 79,
      "outputs": [
        {
          "output_type": "stream",
          "name": "stdout",
          "text": [
            "50\n",
            "50 是偶數\n"
          ]
        }
      ]
    },
    {
      "cell_type": "code",
      "source": [
        "num = int(input())\n",
        "if(num%2==0):\n",
        "  print(num,\"是偶數\")\n",
        "else:\n",
        "  print(num,\"是奇數\")"
      ],
      "metadata": {
        "colab": {
          "base_uri": "https://localhost:8080/"
        },
        "id": "MxSy7Oh6EXZ3",
        "outputId": "fd5eca5c-c984-4727-f16c-7f28ab2377e9"
      },
      "execution_count": 78,
      "outputs": [
        {
          "output_type": "stream",
          "name": "stdout",
          "text": [
            "51\n",
            "51 是奇數\n"
          ]
        }
      ]
    },
    {
      "cell_type": "code",
      "source": [
        "tem = float(input())\n",
        "if(tem>=37.5):\n",
        "  print(\"體溫過高!\")\n",
        "elif(37.4>=tem>=37.0):\n",
        "  print(\"體溫略高!\")\n",
        "elif(34.0<=tem<=36.9):\n",
        "  print(\"體溫正常!\")\n",
        "else:\n",
        "  print(\"體溫異常,請重新測量!\")"
      ],
      "metadata": {
        "colab": {
          "base_uri": "https://localhost:8080/"
        },
        "id": "oiXJy007Ead-",
        "outputId": "20918de0-afe9-4237-af2d-b66618349f54"
      },
      "execution_count": 77,
      "outputs": [
        {
          "output_type": "stream",
          "name": "stdout",
          "text": [
            "99\n",
            "體溫過高!\n"
          ]
        }
      ]
    },
    {
      "cell_type": "code",
      "source": [
        "tem = float(input())\n",
        "if(tem>=37.5):\n",
        "  print(\"體溫過高!\")\n",
        "elif(37.4>=tem>=37.0):\n",
        "  print(\"體溫略高!\")\n",
        "elif(34.0<=tem<=36.9):\n",
        "  print(\"體溫正常!\")\n",
        "else:\n",
        "  print(\"體溫異常,請重新測量!\")"
      ],
      "metadata": {
        "colab": {
          "base_uri": "https://localhost:8080/"
        },
        "id": "RHHeu0jmEagP",
        "outputId": "92526a0d-0fe3-4d7c-e4c9-6d2fb4a2fd15"
      },
      "execution_count": 76,
      "outputs": [
        {
          "output_type": "stream",
          "name": "stdout",
          "text": [
            "37.1\n",
            "體溫略高!\n"
          ]
        }
      ]
    },
    {
      "cell_type": "code",
      "source": [
        "tem = float(input())\n",
        "if(tem>=37.5):\n",
        "  print(\"體溫過高!\")\n",
        "elif(37.4>=tem>=37.0):\n",
        "  print(\"體溫略高!\")\n",
        "elif(34.0<=tem<=36.9):\n",
        "  print(\"體溫正常!\")\n",
        "else:\n",
        "  print(\"體溫異常,請重新測量!\")"
      ],
      "metadata": {
        "colab": {
          "base_uri": "https://localhost:8080/"
        },
        "id": "dggPILLKEaiW",
        "outputId": "c128a451-8f2d-49ad-812e-d890361c5b36"
      },
      "execution_count": 75,
      "outputs": [
        {
          "output_type": "stream",
          "name": "stdout",
          "text": [
            "34.1\n",
            "體溫正常!\n"
          ]
        }
      ]
    },
    {
      "cell_type": "code",
      "source": [
        "tem = float(input())\n",
        "if(tem>=37.5):\n",
        "  print(\"體溫過高!\")\n",
        "elif(37.4>=tem>=37.0):\n",
        "  print(\"體溫略高!\")\n",
        "elif(34.0<=tem<=36.9):\n",
        "  print(\"體溫正常!\")\n",
        "else:\n",
        "  print(\"體溫異常,請重新測量!\")"
      ],
      "metadata": {
        "colab": {
          "base_uri": "https://localhost:8080/"
        },
        "id": "ptlsx7tQEaju",
        "outputId": "3f225fef-40e5-4761-ccf4-38ce778038a7"
      },
      "execution_count": 74,
      "outputs": [
        {
          "output_type": "stream",
          "name": "stdout",
          "text": [
            "2\n",
            "體溫異常,請重新測量!\n"
          ]
        }
      ]
    },
    {
      "cell_type": "code",
      "source": [
        "ll = int(input(\"請輸入成績\"))\n",
        "if(ll>=90):\n",
        "  print(\"A\")\n",
        "elif(80<=ll<=89):\n",
        "  print(\"B\")\n",
        "elif(70<=ll<=79):\n",
        "  print(\"C\")\n",
        "elif(60<=ll<=69):\n",
        "  print(\"D\")\n",
        "else:\n",
        "  print(\"E\")"
      ],
      "metadata": {
        "colab": {
          "base_uri": "https://localhost:8080/"
        },
        "id": "idWCvLyJnkMY",
        "outputId": "0cdb8c4f-45b1-40a8-ca46-8624ac763218"
      },
      "execution_count": 73,
      "outputs": [
        {
          "output_type": "stream",
          "name": "stdout",
          "text": [
            "請輸入成績91\n",
            "A\n"
          ]
        }
      ]
    },
    {
      "cell_type": "code",
      "source": [
        "ll = int(input(\"請輸入成績\"))\n",
        "if(ll>=90):\n",
        "  print(\"A\")\n",
        "elif(80<=ll<=89):\n",
        "  print(\"B\")\n",
        "elif(70<=ll<=79):\n",
        "  print(\"C\")\n",
        "elif(60<=ll<=69):\n",
        "  print(\"D\")\n",
        "else:\n",
        "  print(\"E\")"
      ],
      "metadata": {
        "colab": {
          "base_uri": "https://localhost:8080/"
        },
        "id": "qpfP_yzGr2-K",
        "outputId": "ef9866e5-e5e0-45b7-ae3c-72954ccc0396"
      },
      "execution_count": 72,
      "outputs": [
        {
          "output_type": "stream",
          "name": "stdout",
          "text": [
            "請輸入成績81\n",
            "B\n"
          ]
        }
      ]
    },
    {
      "cell_type": "code",
      "source": [
        "ll = int(input(\"請輸入成績\"))\n",
        "if(ll>=90):\n",
        "  print(\"A\")\n",
        "elif(80<=ll<=89):\n",
        "  print(\"B\")\n",
        "elif(70<=ll<=79):\n",
        "  print(\"C\")\n",
        "elif(60<=ll<=69):\n",
        "  print(\"D\")\n",
        "else:\n",
        "  print(\"E\")"
      ],
      "metadata": {
        "colab": {
          "base_uri": "https://localhost:8080/"
        },
        "id": "6Ih077XBr3AW",
        "outputId": "c5d4152a-95b5-4820-e806-93931980a33a"
      },
      "execution_count": 71,
      "outputs": [
        {
          "output_type": "stream",
          "name": "stdout",
          "text": [
            "請輸入成績71\n",
            "C\n"
          ]
        }
      ]
    },
    {
      "cell_type": "code",
      "source": [
        "ll = int(input(\"請輸入成績\"))\n",
        "if(ll>=90):\n",
        "  print(\"A\")\n",
        "elif(80<=ll<=89):\n",
        "  print(\"B\")\n",
        "elif(70<=ll<=79):\n",
        "  print(\"C\")\n",
        "elif(60<=ll<=69):\n",
        "  print(\"D\")\n",
        "else:\n",
        "  print(\"E\")"
      ],
      "metadata": {
        "colab": {
          "base_uri": "https://localhost:8080/"
        },
        "id": "xCqpw0N5r3EJ",
        "outputId": "8d9f4de6-da00-4639-c28f-2819acd8445d"
      },
      "execution_count": 70,
      "outputs": [
        {
          "output_type": "stream",
          "name": "stdout",
          "text": [
            "請輸入成績61\n",
            "D\n"
          ]
        }
      ]
    },
    {
      "cell_type": "code",
      "source": [
        "ll = int(input(\"請輸入成績\"))\n",
        "if(ll>=90):\n",
        "  print(\"A\")\n",
        "elif(80<=ll<=89):\n",
        "  print(\"B\")\n",
        "elif(70<=ll<=79):\n",
        "  print(\"C\")\n",
        "elif(60<=ll<=69):\n",
        "  print(\"D\")\n",
        "else:\n",
        "  print(\"E\")"
      ],
      "metadata": {
        "colab": {
          "base_uri": "https://localhost:8080/"
        },
        "id": "fX_OeoHvr3RR",
        "outputId": "6eca3a36-8a88-42d9-ea5d-0b0e800ce3e2"
      },
      "execution_count": 69,
      "outputs": [
        {
          "output_type": "stream",
          "name": "stdout",
          "text": [
            "請輸入成績1\n",
            "E\n"
          ]
        }
      ]
    },
    {
      "cell_type": "code",
      "source": [
        "# 步驟 1: 讓使用者輸入一個月份\n",
        "month = int(input(\"請輸入月份（1-12）：\"))\n",
        "\n",
        "# 步驟 2: 使用 if-elif-else 條件判斷來判斷季節\n",
        "if month >= 3 and month <= 5:\n",
        "    print(f\"{month}月是春天!\")\n",
        "elif month >= 6 and month <= 8:\n",
        "    print(f\"{month}月是夏天!\")\n",
        "elif month >= 9 and month <= 11:\n",
        "    print(f\"{month}月是秋天!\")\n",
        "elif month == 12 or month == 1 or month == 2:\n",
        "    print(f\"{month}月是冬天!\")\n",
        "else:\n",
        "    print(\"月份不在範圍內!\")"
      ],
      "metadata": {
        "colab": {
          "base_uri": "https://localhost:8080/"
        },
        "id": "OTu95N7Brt2p",
        "outputId": "60749037-6f91-4385-eb74-134ba81b80ac"
      },
      "execution_count": 68,
      "outputs": [
        {
          "output_type": "stream",
          "name": "stdout",
          "text": [
            "請輸入月份（1-12）：1\n",
            "1月是冬天!\n"
          ]
        }
      ]
    },
    {
      "cell_type": "code",
      "source": [
        "# 步驟 1: 讓使用者輸入收入\n",
        "income = int(input(\"請輸入今年收入金額：\"))\n",
        "\n",
        "# 步驟 2: 使用 if-elif-else 條件判斷來計算稅金\n",
        "if income >= 2000000:\n",
        "    tax_rate = 0.3\n",
        "elif income >= 1000000:\n",
        "    tax_rate = 0.21\n",
        "elif income >= 600000:\n",
        "    tax_rate = 0.13\n",
        "elif income >= 300000:\n",
        "    tax_rate = 0.06\n",
        "else:\n",
        "    tax_rate = 0\n",
        "\n",
        "# 步驟 3: 計算稅金金額\n",
        "tax_amount = income * tax_rate\n",
        "\n",
        "# 步驟 4: 輸出稅金金額\n",
        "print(f\"付稅金額: {tax_amount}\")"
      ],
      "metadata": {
        "colab": {
          "base_uri": "https://localhost:8080/"
        },
        "id": "3P-HjOyzuGMi",
        "outputId": "18b6aef6-3585-4b23-a571-60a63ae88ead"
      },
      "execution_count": 86,
      "outputs": [
        {
          "output_type": "stream",
          "name": "stdout",
          "text": [
            "請輸入今年收入金額：100000\n",
            "付稅金額: 0\n"
          ]
        }
      ]
    },
    {
      "cell_type": "code",
      "source": [
        "# 步驟 1: 讓使用者輸入消費金額\n",
        "amount = int(input(\"請輸入消費金額：\"))\n",
        "\n",
        "# 步驟 2: 使用 if-elif-else 條件判斷來計算折扣\n",
        "if amount > 100000:\n",
        "    discount = 0.8\n",
        "elif amount > 50000:\n",
        "    discount = 0.85\n",
        "elif amount > 30000:\n",
        "    discount = 0.9\n",
        "elif amount > 10000:\n",
        "    discount = 0.95\n",
        "else:\n",
        "    discount = 1\n",
        "\n",
        "# 步驟 3: 計算折扣金額\n",
        "discount_amount = amount * (1 - discount)\n",
        "\n",
        "# 步驟 4: 輸出折扣訊息\n",
        "print(f\"打{discount*100:.0f}折，折扣金額：{discount_amount:.0f}元\")"
      ],
      "metadata": {
        "colab": {
          "base_uri": "https://localhost:8080/"
        },
        "id": "UGMq2q-1uWTL",
        "outputId": "ccc5b82f-ab5e-4f29-e196-365da0ac0420"
      },
      "execution_count": 87,
      "outputs": [
        {
          "output_type": "stream",
          "name": "stdout",
          "text": [
            "請輸入消費金額：10001\n",
            "打95折，折扣金額：500元\n"
          ]
        }
      ]
    },
    {
      "cell_type": "code",
      "source": [
        "import random\n",
        "\n",
        "# 步驟 1: 定義餐點清單\n",
        "menu = [\n",
        "    \"雞排\",\n",
        "    \"八方雲集\",\n",
        "    \"摩斯漢堡\",\n",
        "    \"椒麻雞\",\n",
        "    \"蛋包飯\",\n",
        "    \"7-11\"\n",
        "]\n",
        "\n",
        "# 步驟 2: 使用 random.choice 函式隨機選擇一個餐點\n",
        "lunch_choice = random.choice(menu)\n",
        "\n",
        "# 步驟 3: 輸出選擇的餐點\n",
        "print(f\"今天中午吃: {lunch_choice}\")"
      ],
      "metadata": {
        "colab": {
          "base_uri": "https://localhost:8080/"
        },
        "id": "0cAt-O2rvxwp",
        "outputId": "50b2ff4d-e82c-4bec-ff88-214c9c9d2393"
      },
      "execution_count": 96,
      "outputs": [
        {
          "output_type": "stream",
          "name": "stdout",
          "text": [
            "今天中午吃: 蛋包飯\n"
          ]
        }
      ]
    },
    {
      "cell_type": "code",
      "source": [
        "# 步驟 1: 使用兩個巢狀迴圈來生成99乘法表\n",
        "for i in range(1, 10):\n",
        "    for j in range(1, 10):\n",
        "        # 步驟 2: 計算乘積\n",
        "        product = i * j\n",
        "\n",
        "        # 步驟 3: 輸出乘法表格\n",
        "        if j == 1:\n",
        "            print(f\"{i} x {j} = {product}\", end=\"\\t\")\n",
        "        else:\n",
        "            print(f\"{i} x {j} = {product}\", end=\"\\n\")"
      ],
      "metadata": {
        "colab": {
          "base_uri": "https://localhost:8080/"
        },
        "id": "nf7am9Oe1ULn",
        "outputId": "a1bc7f23-b821-4813-97c5-4e00441cca65"
      },
      "execution_count": 97,
      "outputs": [
        {
          "output_type": "stream",
          "name": "stdout",
          "text": [
            "1 x 1 = 1\t1 x 2 = 2\n",
            "1 x 3 = 3\n",
            "1 x 4 = 4\n",
            "1 x 5 = 5\n",
            "1 x 6 = 6\n",
            "1 x 7 = 7\n",
            "1 x 8 = 8\n",
            "1 x 9 = 9\n",
            "2 x 1 = 2\t2 x 2 = 4\n",
            "2 x 3 = 6\n",
            "2 x 4 = 8\n",
            "2 x 5 = 10\n",
            "2 x 6 = 12\n",
            "2 x 7 = 14\n",
            "2 x 8 = 16\n",
            "2 x 9 = 18\n",
            "3 x 1 = 3\t3 x 2 = 6\n",
            "3 x 3 = 9\n",
            "3 x 4 = 12\n",
            "3 x 5 = 15\n",
            "3 x 6 = 18\n",
            "3 x 7 = 21\n",
            "3 x 8 = 24\n",
            "3 x 9 = 27\n",
            "4 x 1 = 4\t4 x 2 = 8\n",
            "4 x 3 = 12\n",
            "4 x 4 = 16\n",
            "4 x 5 = 20\n",
            "4 x 6 = 24\n",
            "4 x 7 = 28\n",
            "4 x 8 = 32\n",
            "4 x 9 = 36\n",
            "5 x 1 = 5\t5 x 2 = 10\n",
            "5 x 3 = 15\n",
            "5 x 4 = 20\n",
            "5 x 5 = 25\n",
            "5 x 6 = 30\n",
            "5 x 7 = 35\n",
            "5 x 8 = 40\n",
            "5 x 9 = 45\n",
            "6 x 1 = 6\t6 x 2 = 12\n",
            "6 x 3 = 18\n",
            "6 x 4 = 24\n",
            "6 x 5 = 30\n",
            "6 x 6 = 36\n",
            "6 x 7 = 42\n",
            "6 x 8 = 48\n",
            "6 x 9 = 54\n",
            "7 x 1 = 7\t7 x 2 = 14\n",
            "7 x 3 = 21\n",
            "7 x 4 = 28\n",
            "7 x 5 = 35\n",
            "7 x 6 = 42\n",
            "7 x 7 = 49\n",
            "7 x 8 = 56\n",
            "7 x 9 = 63\n",
            "8 x 1 = 8\t8 x 2 = 16\n",
            "8 x 3 = 24\n",
            "8 x 4 = 32\n",
            "8 x 5 = 40\n",
            "8 x 6 = 48\n",
            "8 x 7 = 56\n",
            "8 x 8 = 64\n",
            "8 x 9 = 72\n",
            "9 x 1 = 9\t9 x 2 = 18\n",
            "9 x 3 = 27\n",
            "9 x 4 = 36\n",
            "9 x 5 = 45\n",
            "9 x 6 = 54\n",
            "9 x 7 = 63\n",
            "9 x 8 = 72\n",
            "9 x 9 = 81\n"
          ]
        }
      ]
    },
    {
      "cell_type": "code",
      "source": [
        "# 步驟 1: 使用兩個巢狀迴圈來生成99乘法表\n",
        "for i in range(1, 10):\n",
        "    for j in range(1, 10):\n",
        "        # 步驟 2: 計算乘積\n",
        "        product = i * j\n",
        "\n",
        "        # 步驟 3: 輸出乘法表格\n",
        "        if j == 1:\n",
        "            print(f\"{i} x {j} = {product}\", end=\"\\t\")\n",
        "        else:\n",
        "            print(f\"{i} x {j} = {product}\", end=\" \")\n",
        "    print()"
      ],
      "metadata": {
        "colab": {
          "base_uri": "https://localhost:8080/"
        },
        "id": "pXFQqv6x250V",
        "outputId": "7c484222-c706-4951-d446-0039419404c2"
      },
      "execution_count": 101,
      "outputs": [
        {
          "output_type": "stream",
          "name": "stdout",
          "text": [
            "1 x 1 = 1\t1 x 2 = 2 1 x 3 = 3 1 x 4 = 4 1 x 5 = 5 1 x 6 = 6 1 x 7 = 7 1 x 8 = 8 1 x 9 = 9 \n",
            "2 x 1 = 2\t2 x 2 = 4 2 x 3 = 6 2 x 4 = 8 2 x 5 = 10 2 x 6 = 12 2 x 7 = 14 2 x 8 = 16 2 x 9 = 18 \n",
            "3 x 1 = 3\t3 x 2 = 6 3 x 3 = 9 3 x 4 = 12 3 x 5 = 15 3 x 6 = 18 3 x 7 = 21 3 x 8 = 24 3 x 9 = 27 \n",
            "4 x 1 = 4\t4 x 2 = 8 4 x 3 = 12 4 x 4 = 16 4 x 5 = 20 4 x 6 = 24 4 x 7 = 28 4 x 8 = 32 4 x 9 = 36 \n",
            "5 x 1 = 5\t5 x 2 = 10 5 x 3 = 15 5 x 4 = 20 5 x 5 = 25 5 x 6 = 30 5 x 7 = 35 5 x 8 = 40 5 x 9 = 45 \n",
            "6 x 1 = 6\t6 x 2 = 12 6 x 3 = 18 6 x 4 = 24 6 x 5 = 30 6 x 6 = 36 6 x 7 = 42 6 x 8 = 48 6 x 9 = 54 \n",
            "7 x 1 = 7\t7 x 2 = 14 7 x 3 = 21 7 x 4 = 28 7 x 5 = 35 7 x 6 = 42 7 x 7 = 49 7 x 8 = 56 7 x 9 = 63 \n",
            "8 x 1 = 8\t8 x 2 = 16 8 x 3 = 24 8 x 4 = 32 8 x 5 = 40 8 x 6 = 48 8 x 7 = 56 8 x 8 = 64 8 x 9 = 72 \n",
            "9 x 1 = 9\t9 x 2 = 18 9 x 3 = 27 9 x 4 = 36 9 x 5 = 45 9 x 6 = 54 9 x 7 = 63 9 x 8 = 72 9 x 9 = 81 \n"
          ]
        }
      ]
    },
    {
      "cell_type": "code",
      "source": [
        "# 步驟 1: 讀取輸入的兩個正整數 a 和 b\n",
        "a = int(input(\"請輸入正整數 a：\"))\n",
        "b = int(input(\"請輸入正整數 b：\"))\n",
        "\n",
        "# 步驟 2: 找出最大的數字作為迴圈的上限\n",
        "max_num = max(a, b)\n",
        "\n",
        "# 步驟 3: 使用 for 迴圈從最大數字開始遞增，找出最小公倍數\n",
        "for num in range(max_num, a*b + 1, max_num):\n",
        "    if num % a == 0 and num % b == 0:\n",
        "        lcm = num\n",
        "        break\n",
        "\n",
        "# 步驟 4: 輸出最小公倍數\n",
        "print(f\"{a} 和 {b} 的最小公倍數為：{lcm}\")"
      ],
      "metadata": {
        "colab": {
          "base_uri": "https://localhost:8080/"
        },
        "id": "SWWkr24F37QH",
        "outputId": "73f2c716-564d-4960-d9dd-9ffeaba1bed9"
      },
      "execution_count": 102,
      "outputs": [
        {
          "output_type": "stream",
          "name": "stdout",
          "text": [
            "請輸入正整數 a：3\n",
            "請輸入正整數 b：4\n",
            "3 和 4 的最小公倍數為：12\n"
          ]
        }
      ]
    },
    {
      "cell_type": "code",
      "source": [
        "# 步驟 1: 讀取使用者輸入的正整數\n",
        "n = int(input(\"請輸入一個正整數：\"))\n",
        "\n",
        "# 步驟 2: 使用 for 迴圈生成數列並排除 5 的倍數\n",
        "numbers = []\n",
        "for i in range(1, n+1):\n",
        "    if i % 5 != 0:\n",
        "        numbers.append(i)\n",
        "\n",
        "# 步驟 3: 輸出結果\n",
        "print(\"排除 5 的倍數後的數列：\", numbers)\n"
      ],
      "metadata": {
        "colab": {
          "base_uri": "https://localhost:8080/"
        },
        "id": "6Iyv_Ys737Sp",
        "outputId": "05af1a50-9d97-443f-dd12-b4a0e59564de"
      },
      "execution_count": 103,
      "outputs": [
        {
          "output_type": "stream",
          "name": "stdout",
          "text": [
            "請輸入一個正整數：21\n",
            "排除 5 的倍數後的數列： [1, 2, 3, 4, 6, 7, 8, 9, 11, 12, 13, 14, 16, 17, 18, 19, 21]\n"
          ]
        }
      ]
    },
    {
      "cell_type": "code",
      "source": [
        "# 步驟 1: 讀取使用者輸入的正整數\n",
        "n = int(input(\"請輸入一個正整數：\"))\n",
        "\n",
        "# 步驟 2: 初始化乘積為 1\n",
        "product = 1\n",
        "\n",
        "# 步驟 3: 使用 while 迴圈計算乘積\n",
        "i = 1\n",
        "while i <= n:\n",
        "    product *= i\n",
        "    i += 1\n",
        "\n",
        "# 步驟 4: 輸出結果\n",
        "print(f\"1*2*3*...*{n} 的乘積為：{product}\")"
      ],
      "metadata": {
        "colab": {
          "base_uri": "https://localhost:8080/"
        },
        "id": "NnGql4vY6ZII",
        "outputId": "20c86ad7-5078-43d5-977a-32ecffa1ea1e"
      },
      "execution_count": 104,
      "outputs": [
        {
          "output_type": "stream",
          "name": "stdout",
          "text": [
            "請輸入一個正整數：5\n",
            "1*2*3*...*5 的乘積為：120\n"
          ]
        }
      ]
    },
    {
      "cell_type": "code",
      "source": [
        "# 計算奇數和\n",
        "odd_sum = 0\n",
        "for num in range(1, 51, 2):\n",
        "    odd_sum += num\n",
        "\n",
        "# 計算偶數和\n",
        "even_sum = 0\n",
        "for num in range(0, 51, 2):\n",
        "    even_sum += num\n",
        "\n",
        "# 輸出結果\n",
        "print(\"0 到 50 的奇數和：\", odd_sum)\n",
        "print(\"0 到 50 的偶數和：\", even_sum)"
      ],
      "metadata": {
        "colab": {
          "base_uri": "https://localhost:8080/"
        },
        "id": "5lo6bBhE6h2O",
        "outputId": "4654e4c5-dac9-4a88-c74e-1a1655e6d3c5"
      },
      "execution_count": 105,
      "outputs": [
        {
          "output_type": "stream",
          "name": "stdout",
          "text": [
            "0 到 50 的奇數和： 625\n",
            "0 到 50 的偶數和： 650\n"
          ]
        }
      ]
    },
    {
      "cell_type": "code",
      "source": [
        "# 讀取使用者輸入的正整數\n",
        "n = int(input(\"請輸入一個正整數：\"))\n",
        "\n",
        "# 生成倒三角形\n",
        "for i in range(n, 0, -1):\n",
        "    print('*' * i)"
      ],
      "metadata": {
        "colab": {
          "base_uri": "https://localhost:8080/"
        },
        "id": "9gMIBoTe6iDO",
        "outputId": "a1d2719e-6eec-4d35-b5e0-0639afd53258"
      },
      "execution_count": 106,
      "outputs": [
        {
          "output_type": "stream",
          "name": "stdout",
          "text": [
            "請輸入一個正整數：5\n",
            "*****\n",
            "****\n",
            "***\n",
            "**\n",
            "*\n"
          ]
        }
      ]
    },
    {
      "cell_type": "code",
      "source": [
        "# 初始化總和\n",
        "total_sum = 0\n",
        "\n",
        "# 使用 for 迴圈檢查每個數字\n",
        "for num in range(1, 101):\n",
        "    if num % 3 == 0 or num % 7 == 0:\n",
        "        total_sum += num\n",
        "\n",
        "# 輸出結果\n",
        "print(\"數值1~100中所有是3或7倍數的數之總和：\", total_sum)"
      ],
      "metadata": {
        "colab": {
          "base_uri": "https://localhost:8080/"
        },
        "id": "e_l7iPyB6iJP",
        "outputId": "e5c82005-da4d-4f2f-8eba-98951221e1d2"
      },
      "execution_count": 107,
      "outputs": [
        {
          "output_type": "stream",
          "name": "stdout",
          "text": [
            "數值1~100中所有是3或7倍數的數之總和： 2208\n"
          ]
        }
      ]
    },
    {
      "cell_type": "code",
      "source": [
        "# 讀取使用者輸入的正整數\n",
        "num = int(input(\"請輸入一個正整數：\"))\n",
        "\n",
        "# 初始化因數列表\n",
        "factors = []\n",
        "\n",
        "# 使用 for 迴圈尋找因數\n",
        "for i in range(1, num + 1):\n",
        "    if num % i == 0:\n",
        "        factors.append(i)\n",
        "\n",
        "# 判斷是否為質數\n",
        "if len(factors) == 2:\n",
        "    print(num, \"是質數\")\n",
        "else:\n",
        "    print(num, \"不是質數\")\n",
        "\n",
        "# 輸出所有因數\n",
        "print(\"所有因數：\", factors)"
      ],
      "metadata": {
        "colab": {
          "base_uri": "https://localhost:8080/"
        },
        "id": "9HQEznIX7L9D",
        "outputId": "0b50da37-eb88-4134-f1a5-4daafd2dd40d"
      },
      "execution_count": 108,
      "outputs": [
        {
          "output_type": "stream",
          "name": "stdout",
          "text": [
            "請輸入一個正整數：72\n",
            "72 不是質數\n",
            "所有因數： [1, 2, 3, 4, 6, 8, 9, 12, 18, 24, 36, 72]\n"
          ]
        }
      ]
    },
    {
      "cell_type": "code",
      "source": [
        "list4 = [\"香蕉\",\"蘋果\",\"橘子\"]\n",
        "print(list4[1])"
      ],
      "metadata": {
        "colab": {
          "base_uri": "https://localhost:8080/"
        },
        "id": "5iYovvlBAHEk",
        "outputId": "45d3ef08-99f8-4ced-82f6-41833de6be99"
      },
      "execution_count": 110,
      "outputs": [
        {
          "output_type": "stream",
          "name": "stdout",
          "text": [
            "蘋果\n"
          ]
        }
      ]
    },
    {
      "cell_type": "code",
      "source": [
        "print(list4[-1])"
      ],
      "metadata": {
        "colab": {
          "base_uri": "https://localhost:8080/"
        },
        "id": "jfbA5o7fAHIj",
        "outputId": "9bbc7805-327e-4b33-ee22-43683536e537"
      },
      "execution_count": 111,
      "outputs": [
        {
          "output_type": "stream",
          "name": "stdout",
          "text": [
            "橘子\n"
          ]
        }
      ]
    },
    {
      "cell_type": "code",
      "source": [
        "list5 = [\"國文成績:85\", \"數學成績:79\", \"英文成績:93\"]\n",
        "print(list5[0])\n",
        "print(list5[1])\n",
        "print(list5[2])"
      ],
      "metadata": {
        "colab": {
          "base_uri": "https://localhost:8080/"
        },
        "id": "UZnKwSOxAHME",
        "outputId": "c14fad69-5d2e-40a7-f5b7-fb5dc5b1d845"
      },
      "execution_count": 114,
      "outputs": [
        {
          "output_type": "stream",
          "name": "stdout",
          "text": [
            "國文成績:85\n",
            "數學成績:79\n",
            "英文成績:93\n"
          ]
        }
      ]
    },
    {
      "cell_type": "code",
      "source": [],
      "metadata": {
        "id": "nVigMrUBAHOD"
      },
      "execution_count": null,
      "outputs": []
    }
  ]
}