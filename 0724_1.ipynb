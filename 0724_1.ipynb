{
  "nbformat": 4,
  "nbformat_minor": 0,
  "metadata": {
    "colab": {
      "provenance": [],
      "authorship_tag": "ABX9TyOSWMdJswIDSjGas8q5YoKW",
      "include_colab_link": true
    },
    "kernelspec": {
      "name": "python3",
      "display_name": "Python 3"
    },
    "language_info": {
      "name": "python"
    }
  },
  "cells": [
    {
      "cell_type": "markdown",
      "metadata": {
        "id": "view-in-github",
        "colab_type": "text"
      },
      "source": [
        "<a href=\"https://colab.research.google.com/github/freeze0918/0724/blob/main/0724_1.ipynb\" target=\"_parent\"><img src=\"https://colab.research.google.com/assets/colab-badge.svg\" alt=\"Open In Colab\"/></a>"
      ]
    },
    {
      "cell_type": "code",
      "execution_count": 1,
      "metadata": {
        "colab": {
          "base_uri": "https://localhost:8080/"
        },
        "id": "usGUt325qx-O",
        "outputId": "cbffbf27-5d45-46e2-c014-95ac82103537"
      },
      "outputs": [
        {
          "output_type": "stream",
          "name": "stdout",
          "text": [
            "我的第一支 python檔案\n"
          ]
        }
      ],
      "source": [
        "print(\"我的第一支 python檔案\")"
      ]
    },
    {
      "cell_type": "markdown",
      "source": [
        "#大標題"
      ],
      "metadata": {
        "id": "J_4TGvYusF6s"
      }
    },
    {
      "cell_type": "markdown",
      "source": [
        "##小標題"
      ],
      "metadata": {
        "id": "LjFgdEGdsLds"
      }
    },
    {
      "cell_type": "code",
      "source": [],
      "metadata": {
        "id": "EAQTSWnisAal"
      },
      "execution_count": null,
      "outputs": []
    },
    {
      "cell_type": "code",
      "source": [],
      "metadata": {
        "id": "pJZhkaeWsAdl"
      },
      "execution_count": null,
      "outputs": []
    }
  ]
}